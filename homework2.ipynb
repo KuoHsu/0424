{
 "cells": [
  {
   "cell_type": "code",
   "execution_count": 1,
   "metadata": {},
   "outputs": [
    {
     "name": "stdout",
     "output_type": "stream",
     "text": [
      "請輸入任意數字或q：8\n",
      "猜到了 猜了1次\n"
     ]
    }
   ],
   "source": [
    "counter = 0\n",
    "while(True):\n",
    "    x = input(\"請輸入任意數字或q：\")\n",
    "    counter+=1\n",
    "    if x == '8':\n",
    "        print(\"猜到了 猜了{0}次\".format(counter))\n",
    "        break\n",
    "    elif x == 'q':\n",
    "        print(\"Bye\")\n",
    "        break\n",
    "    else:\n",
    "        print(\"QQ 沒猜到\")"
   ]
  },
  {
   "cell_type": "code",
   "execution_count": null,
   "metadata": {},
   "outputs": [],
   "source": []
  }
 ],
 "metadata": {
  "kernelspec": {
   "display_name": "Python 3",
   "language": "python",
   "name": "python3"
  },
  "language_info": {
   "codemirror_mode": {
    "name": "ipython",
    "version": 3
   },
   "file_extension": ".py",
   "mimetype": "text/x-python",
   "name": "python",
   "nbconvert_exporter": "python",
   "pygments_lexer": "ipython3",
   "version": "3.6.4"
  }
 },
 "nbformat": 4,
 "nbformat_minor": 2
}
