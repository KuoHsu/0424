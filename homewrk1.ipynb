{
 "cells": [
  {
   "cell_type": "code",
   "execution_count": 1,
   "metadata": {},
   "outputs": [
    {
     "name": "stdout",
     "output_type": "stream",
     "text": [
      "請輸入分數：80\n",
      "Prefect\n"
     ]
    }
   ],
   "source": [
    "try:\n",
    "    score = int(input(\"請輸入分數：\"))\n",
    "    if score < 60:\n",
    "        print(\"Fail\")\n",
    "    elif 60 <= score < 80:\n",
    "        print(\"Pass\")\n",
    "    elif score >= 80:\n",
    "        print(\"Prefect\")\n",
    "except:\n",
    "    print(\"Unknow\")\n"
   ]
  },
  {
   "cell_type": "code",
   "execution_count": null,
   "metadata": {},
   "outputs": [],
   "source": []
  }
 ],
 "metadata": {
  "kernelspec": {
   "display_name": "Python 3",
   "language": "python",
   "name": "python3"
  },
  "language_info": {
   "codemirror_mode": {
    "name": "ipython",
    "version": 3
   },
   "file_extension": ".py",
   "mimetype": "text/x-python",
   "name": "python",
   "nbconvert_exporter": "python",
   "pygments_lexer": "ipython3",
   "version": "3.6.4"
  }
 },
 "nbformat": 4,
 "nbformat_minor": 2
}
